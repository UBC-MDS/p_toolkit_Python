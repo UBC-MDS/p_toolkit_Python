{
 "cells": [
  {
   "cell_type": "code",
   "execution_count": 1,
   "metadata": {},
   "outputs": [],
   "source": [
    "import numpy as np\n",
    "import matplotlib.pyplot as plt\n",
    "import pandas as pd\n",
    "%matplotlib inline"
   ]
  },
  {
   "cell_type": "code",
   "execution_count": 33,
   "metadata": {},
   "outputs": [
    {
     "data": {
      "text/plain": [
       "0    0.50\n",
       "1    0.03\n",
       "Name: p, dtype: float64"
      ]
     },
     "execution_count": 33,
     "metadata": {},
     "output_type": "execute_result"
    }
   ],
   "source": [
    "d = {\"Test\": [\"test 1\", \"test 2\"], \"p\": [.5, 0.03]}\n",
    "df = pd.DataFrame(data=d)\n",
    "#print(df)\n",
    "\n",
    "data=df\n",
    "\n",
    "pv_index = 1\n",
    "\n",
    "#df[pv_index]\n",
    "\n",
    "#data =data.rename(columns ={pv_index: \"p_value\"})\n",
    "\n",
    "#print(data)\n",
    "\n",
    "df.iloc[:,1]\n",
    "#df.iloc[:,\"p\"]"
   ]
  },
  {
   "cell_type": "code",
   "execution_count": 34,
   "metadata": {},
   "outputs": [
    {
     "data": {
      "text/plain": [
       "'p'"
      ]
     },
     "execution_count": 34,
     "metadata": {},
     "output_type": "execute_result"
    }
   ],
   "source": [
    "df.columns.get_values()[1]"
   ]
  },
  {
   "cell_type": "code",
   "execution_count": 33,
   "metadata": {},
   "outputs": [
    {
     "data": {
      "text/plain": [
       "\u001b[1;31mSignature:\u001b[0m \u001b[0mdf\u001b[0m\u001b[1;33m.\u001b[0m\u001b[0mrename\u001b[0m\u001b[1;33m(\u001b[0m\u001b[0mindex\u001b[0m\u001b[1;33m=\u001b[0m\u001b[1;32mNone\u001b[0m\u001b[1;33m,\u001b[0m \u001b[0mcolumns\u001b[0m\u001b[1;33m=\u001b[0m\u001b[1;32mNone\u001b[0m\u001b[1;33m,\u001b[0m \u001b[1;33m**\u001b[0m\u001b[0mkwargs\u001b[0m\u001b[1;33m)\u001b[0m\u001b[1;33m\u001b[0m\u001b[0m\n",
       "\u001b[1;31mDocstring:\u001b[0m\n",
       "Alter axes input function or functions. Function / dict values must be\n",
       "unique (1-to-1). Labels not contained in a dict / Series will be left\n",
       "as-is. Extra labels listed don't throw an error. Alternatively, change\n",
       "``Series.name`` with a scalar value (Series only).\n",
       "\n",
       "Parameters\n",
       "----------\n",
       "index, columns : scalar, list-like, dict-like or function, optional\n",
       "    Scalar or list-like will alter the ``Series.name`` attribute,\n",
       "    and raise on DataFrame or Panel.\n",
       "    dict-like or functions are transformations to apply to\n",
       "    that axis' values\n",
       "copy : boolean, default True\n",
       "    Also copy underlying data\n",
       "inplace : boolean, default False\n",
       "    Whether to return a new DataFrame. If True then value of copy is\n",
       "    ignored.\n",
       "level : int or level name, default None\n",
       "    In case of a MultiIndex, only rename labels in the specified\n",
       "    level.\n",
       "\n",
       "Returns\n",
       "-------\n",
       "renamed : DataFrame (new object)\n",
       "\n",
       "See Also\n",
       "--------\n",
       "pandas.NDFrame.rename_axis\n",
       "\n",
       "Examples\n",
       "--------\n",
       ">>> s = pd.Series([1, 2, 3])\n",
       ">>> s\n",
       "0    1\n",
       "1    2\n",
       "2    3\n",
       "dtype: int64\n",
       ">>> s.rename(\"my_name\") # scalar, changes Series.name\n",
       "0    1\n",
       "1    2\n",
       "2    3\n",
       "Name: my_name, dtype: int64\n",
       ">>> s.rename(lambda x: x ** 2)  # function, changes labels\n",
       "0    1\n",
       "1    2\n",
       "4    3\n",
       "dtype: int64\n",
       ">>> s.rename({1: 3, 2: 5})  # mapping, changes labels\n",
       "0    1\n",
       "3    2\n",
       "5    3\n",
       "dtype: int64\n",
       ">>> df = pd.DataFrame({\"A\": [1, 2, 3], \"B\": [4, 5, 6]})\n",
       ">>> df.rename(2)\n",
       "Traceback (most recent call last):\n",
       "...\n",
       "TypeError: 'int' object is not callable\n",
       ">>> df.rename(index=str, columns={\"A\": \"a\", \"B\": \"c\"})\n",
       "   a  c\n",
       "0  1  4\n",
       "1  2  5\n",
       "2  3  6\n",
       ">>> df.rename(index=str, columns={\"A\": \"a\", \"C\": \"c\"})\n",
       "   a  B\n",
       "0  1  4\n",
       "1  2  5\n",
       "2  3  6\n",
       "\u001b[1;31mFile:\u001b[0m      c:\\users\\a00742989\\appdata\\local\\continuum\\anaconda3\\lib\\site-packages\\pandas\\core\\frame.py\n",
       "\u001b[1;31mType:\u001b[0m      method\n"
      ]
     },
     "metadata": {},
     "output_type": "display_data"
    }
   ],
   "source": [
    "?df.rename\n"
   ]
  },
  {
   "cell_type": "code",
   "execution_count": null,
   "metadata": {},
   "outputs": [],
   "source": []
  }
 ],
 "metadata": {
  "kernelspec": {
   "display_name": "Python 3",
   "language": "python",
   "name": "python3"
  },
  "language_info": {
   "codemirror_mode": {
    "name": "ipython",
    "version": 3
   },
   "file_extension": ".py",
   "mimetype": "text/x-python",
   "name": "python",
   "nbconvert_exporter": "python",
   "pygments_lexer": "ipython3",
   "version": "3.6.1"
  }
 },
 "nbformat": 4,
 "nbformat_minor": 2
}
