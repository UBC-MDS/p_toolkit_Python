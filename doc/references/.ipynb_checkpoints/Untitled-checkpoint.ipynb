{
 "cells": [
  {
   "cell_type": "code",
   "execution_count": 2,
   "metadata": {},
   "outputs": [],
   "source": [
    "# Load libraries\n",
    "import numpy as np\n",
    "import pandas as pd\n",
    "import matplotlib.pyplot as plt\n",
    "import scipy.stats as sst"
   ]
  },
  {
   "cell_type": "code",
   "execution_count": 3,
   "metadata": {},
   "outputs": [],
   "source": [
    "###p_adjust functionality\n",
    "def test_p_adjust():\n",
    "    \"\"\"\n",
    "    The purpose of this test is evaluating the p_adjust with more real world data using Pandas dataframes under\n",
    "    different environments.\n",
    "    \"\"\"\n",
    "\n",
    "    ##basic vector functionality\"\n",
    "    d = {\"p_value\": [0.07], \"adjusted\": [0.07]}\n",
    "    df = pd.DataFrame(data=d)\n",
    "    df = df[[\"p_value\", \"adjusted\"]]\n",
    "    assert df.equals(p_adjust(data=[0.07], method=\"bonf\")), \"p_adjust 1 values vector for bonferoni\"\n",
    "    assert df.equals(p_adjust(data=[0.07], method=\"bh\")), \"p_adjust 1 values vector for bh\"\n",
    "\n",
    "\n",
    "    d = {\"p_value\": [0.07, 0.2], \"adjusted\": [0.14, 0.4]}\n",
    "    df = pd.DataFrame(data=d)\n",
    "    df = df[[\"p_value\", \"adjusted\"]]\n",
    "    assert df.equals(p_adjust(data=[0.07, 0.2], method=\"bh\")), \"p_adjust 2 values vector for bonferoni\"\n",
    "\n",
    "    d = {\"p_value\": [0.07, 0.2], \"adjusted\": [0.14, 0.2]}\n",
    "    df = pd.DataFrame(data=d)\n",
    "    df = df[[\"p_value\", \"adjusted\"]]\n",
    "    assert p_adjust(data=[0.07, 0.2], method=\"bh\") == df, \"p_adjust 2 values vector value for bh\"\n"
   ]
  },
  {
   "cell_type": "code",
   "execution_count": 72,
   "metadata": {},
   "outputs": [],
   "source": [
    "def p_adjust(data, pv_index=0, method='bonf', alpha=0.05):                                         \n",
    "    \"\"\"                                                                                            \n",
    "    A summary dataframe with columns for the p-values, adjusted p-values for both Bonferroni and   \n",
    "    Benjamini-Hochberg (BH), adjusted significancelevel for Bonferroni and the critical value for B\n",
    "                                                                                                   \n",
    "   Args:                                                                                           \n",
    "        - data (dataframe): dataframe containing at least a column of p-values to be adjusted      \n",
    "        - pv_index (int): original p-value column index from existing input dataframe              \n",
    "        - alpha (int): significance level as a value between 0 and 1                               \n",
    "                                                                                                   \n",
    "   Returns:                                                                                        \n",
    "        Dataframe: appends to input dataframe both adjusted p-values and significance levels (Bonfe\n",
    "        in ascending raw p-value order.Includes following columns:                                 \n",
    "            - bonf_val (int): Bonferroni adjusted significance level (same for all)                \n",
    "            - Bonf_significant (bool): True if significant p-value or False if not                 \n",
    "            - bh_val (int): Benjamini-Hochberg (BH) critical value                                 \n",
    "            - BH_significant (bool): True if significant p-value or False if not                   \n",
    "    \"\"\"                                                                                            \n",
    "                                                                                                   \n",
    "    #     ####if it's a pd.dataframe, rename to col header                                         \n",
    "    #     if isinstance(data, pd.DataFrame):                                                       \n",
    "    #         data.rename({pv_index: \"p_value\"})                                                   \n",
    "    #         if np.issubdtype(data['p_value'].dtypes, np.number):                                 \n",
    "                                                                                                   \n",
    "    #     ###or make a vector a pd.dataframe                                                       \n",
    "    #     else:                                                                                    \n",
    "    #         data = pd.DataFrame({\"p_value\": data})  \n",
    "    \n",
    "    if isinstance(data, pd.DataFrame):                                                             \n",
    "        data.rename({pv_index: \"p_value\"})                                                         \n",
    "        ## error for non-numeric data frame column                                                 \n",
    "        if not (np.issubdtype(data['p_value'].dtypes, np.number)):                                 \n",
    "            raise TypeError(\"Please ensure you have specified the column index of numeric p-values.\")\n",
    "    else:                                                                                          \n",
    "        data = pd.DataFrame({\"p_value\": data})                                                     \n",
    "        # set the size of the data                                                                 \n",
    "                                                                                                   \n",
    "    m = data.shape[0]                                                                              \n",
    "                                                                                                   \n",
    "    # sort p-values                                                                                \n",
    "    df = data.sort_values(by=['p_value'])                                                          \n",
    "    df[\"rank\"] = round(df.rank(axis=0, method='min')[\"p_value\"])                                   \n",
    "    df[\"bh_value\"] = alpha * df[\"rank\"] / m                                                        \n",
    "                                                                                                   \n",
    "    ### generate final data frame                                                                  \n",
    "    df[\"bonf_pvalue\"] = np.where(df['p_value'] * m < 1, df['p_value'] * m, 1)                      \n",
    "    df[\"bh_pvalue\"] = df['p_value'] / df['rank']* m                                               \n",
    "                                                                                                   \n",
    "                                                                                                   \n",
    "    if method == 'bh' or method == 'fdr':                                                          \n",
    "        df[\"adjusted\"] = df['p_value'] / df['rank']* m  \n",
    "        return (df[['p_value', 'adjusted']])                                                       \n",
    "    if method == 'bonf' or method == 'bonferroni':                                                 \n",
    "        df[\"adjusted\"] = df['p_value'] * m                                           \n",
    "        return (df[['p_value', 'adjusted']])                                                       \n",
    "    else:                                                                                          \n",
    "        raise ValueError(\"Method should be set as 'bonf' or 'bh' corrections\")\n",
    "                            "
   ]
  },
  {
   "cell_type": "code",
   "execution_count": 10,
   "metadata": {},
   "outputs": [],
   "source": [
    "###p_adjust functionality\n",
    "def test_p_adjust():\n",
    "    \"\"\"\n",
    "    The purpose of this test is evaluating the p_adjust with more real world data using Pandas dataframes under\n",
    "    different environments.\n",
    "    \"\"\"\n",
    "\n",
    "    ##basic vector functionality\"\n",
    "    d = {\"p_value\": [0.07], \"adjusted\": [0.07]}\n",
    "    df = pd.DataFrame(data=d)\n",
    "    df = df[[\"p_value\", \"adjusted\"]]\n",
    "    assert df.equals(p_adjust(data=[0.07], method=\"bonf\")), \"p_adjust 1 values vector for bonferoni\"\n",
    "    assert df.equals(p_adjust(data=[0.07], method=\"bh\")), \"p_adjust 1 values vector for bh\"\n",
    "\n",
    "\n",
    "    d = {\"p_value\": [0.07, 0.2], \"adjusted\": [0.14, 0.4]}\n",
    "    df = pd.DataFrame(data=d)\n",
    "    df = df[[\"p_value\", \"adjusted\"]]\n",
    "    assert df.equals(p_adjust(data=[0.07, 0.2], method=\"bh\")), \"p_adjust 2 values vector for bonferoni\"\n",
    "\n",
    "    d = {\"p_value\": [0.07, 0.2], \"adjusted\": [0.14, 0.2]}\n",
    "    df = pd.DataFrame(data=d)\n",
    "    df = df[[\"p_value\", \"adjusted\"]]\n",
    "    assert p_adjust(data=[0.07, 0.2], method=\"bh\") == df, \"p_adjust 2 values vector value for bh\"\n"
   ]
  },
  {
   "cell_type": "code",
   "execution_count": null,
   "metadata": {},
   "outputs": [],
   "source": []
  },
  {
   "cell_type": "code",
   "execution_count": 38,
   "metadata": {},
   "outputs": [
    {
     "data": {
      "text/html": [
       "<div>\n",
       "<style scoped>\n",
       "    .dataframe tbody tr th:only-of-type {\n",
       "        vertical-align: middle;\n",
       "    }\n",
       "\n",
       "    .dataframe tbody tr th {\n",
       "        vertical-align: top;\n",
       "    }\n",
       "\n",
       "    .dataframe thead th {\n",
       "        text-align: right;\n",
       "    }\n",
       "</style>\n",
       "<table border=\"1\" class=\"dataframe\">\n",
       "  <thead>\n",
       "    <tr style=\"text-align: right;\">\n",
       "      <th></th>\n",
       "      <th>p_value</th>\n",
       "      <th>adjusted</th>\n",
       "      <th>rank</th>\n",
       "      <th>bh_value</th>\n",
       "      <th>bonf_pvalue</th>\n",
       "      <th>bh_pvalue</th>\n",
       "    </tr>\n",
       "  </thead>\n",
       "  <tbody>\n",
       "    <tr>\n",
       "      <th>0</th>\n",
       "      <td>0.07</td>\n",
       "      <td>0.14</td>\n",
       "      <td>1.0</td>\n",
       "      <td>0.025</td>\n",
       "      <td>0.14</td>\n",
       "      <td>0.035</td>\n",
       "    </tr>\n",
       "    <tr>\n",
       "      <th>1</th>\n",
       "      <td>0.20</td>\n",
       "      <td>0.20</td>\n",
       "      <td>2.0</td>\n",
       "      <td>0.050</td>\n",
       "      <td>0.40</td>\n",
       "      <td>0.200</td>\n",
       "    </tr>\n",
       "  </tbody>\n",
       "</table>\n",
       "</div>"
      ],
      "text/plain": [
       "   p_value  adjusted  rank  bh_value  bonf_pvalue  bh_pvalue\n",
       "0     0.07      0.14   1.0     0.025         0.14      0.035\n",
       "1     0.20      0.20   2.0     0.050         0.40      0.200"
      ]
     },
     "execution_count": 38,
     "metadata": {},
     "output_type": "execute_result"
    }
   ],
   "source": [
    "df"
   ]
  },
  {
   "cell_type": "code",
   "execution_count": 79,
   "metadata": {},
   "outputs": [
    {
     "data": {
      "text/html": [
       "<div>\n",
       "<style scoped>\n",
       "    .dataframe tbody tr th:only-of-type {\n",
       "        vertical-align: middle;\n",
       "    }\n",
       "\n",
       "    .dataframe tbody tr th {\n",
       "        vertical-align: top;\n",
       "    }\n",
       "\n",
       "    .dataframe thead th {\n",
       "        text-align: right;\n",
       "    }\n",
       "</style>\n",
       "<table border=\"1\" class=\"dataframe\">\n",
       "  <thead>\n",
       "    <tr style=\"text-align: right;\">\n",
       "      <th></th>\n",
       "      <th>p_value</th>\n",
       "      <th>adjusted</th>\n",
       "    </tr>\n",
       "  </thead>\n",
       "  <tbody>\n",
       "    <tr>\n",
       "      <th>0</th>\n",
       "      <td>0.07</td>\n",
       "      <td>0.14</td>\n",
       "    </tr>\n",
       "    <tr>\n",
       "      <th>1</th>\n",
       "      <td>0.20</td>\n",
       "      <td>0.20</td>\n",
       "    </tr>\n",
       "  </tbody>\n",
       "</table>\n",
       "</div>"
      ],
      "text/plain": [
       "   p_value  adjusted\n",
       "0     0.07      0.14\n",
       "1     0.20      0.20"
      ]
     },
     "execution_count": 79,
     "metadata": {},
     "output_type": "execute_result"
    }
   ],
   "source": [
    "p_adjust(data=[0.07, 0.2], method=\"bh\")"
   ]
  },
  {
   "cell_type": "code",
   "execution_count": 77,
   "metadata": {},
   "outputs": [],
   "source": [
    "data=[0.07, 0.2]\n",
    "data = pd.DataFrame({\"p_value\": data})\n",
    "alpha = 0.05\n",
    "m = data.shape[0]\n",
    "df[\"rank\"] = round(df.rank(axis=0, method='min')[\"p_value\"])                                   \n",
    "df[\"bh_value\"] = df['p_value'] * df[\"rank\"] / m                                                        \n",
    "                                                                                               \n",
    "### generate final data frame                                                                  \n",
    "df[\"bonf_pvalue\"] = np.where(df['p_value'] * m < 1, df['p_value'] * m, 1)                      \n",
    "df[\"bh_pvalue\"] = df['p_value'] / df['rank']* m   \n",
    "df = df[[\"p_value\", \"adjusted\"]]"
   ]
  },
  {
   "cell_type": "code",
   "execution_count": 78,
   "metadata": {},
   "outputs": [
    {
     "data": {
      "text/html": [
       "<div>\n",
       "<style scoped>\n",
       "    .dataframe tbody tr th:only-of-type {\n",
       "        vertical-align: middle;\n",
       "    }\n",
       "\n",
       "    .dataframe tbody tr th {\n",
       "        vertical-align: top;\n",
       "    }\n",
       "\n",
       "    .dataframe thead th {\n",
       "        text-align: right;\n",
       "    }\n",
       "</style>\n",
       "<table border=\"1\" class=\"dataframe\">\n",
       "  <thead>\n",
       "    <tr style=\"text-align: right;\">\n",
       "      <th></th>\n",
       "      <th>p_value</th>\n",
       "      <th>adjusted</th>\n",
       "    </tr>\n",
       "  </thead>\n",
       "  <tbody>\n",
       "    <tr>\n",
       "      <th>0</th>\n",
       "      <td>0.07</td>\n",
       "      <td>0.14</td>\n",
       "    </tr>\n",
       "    <tr>\n",
       "      <th>1</th>\n",
       "      <td>0.20</td>\n",
       "      <td>0.20</td>\n",
       "    </tr>\n",
       "  </tbody>\n",
       "</table>\n",
       "</div>"
      ],
      "text/plain": [
       "   p_value  adjusted\n",
       "0     0.07      0.14\n",
       "1     0.20      0.20"
      ]
     },
     "execution_count": 78,
     "metadata": {},
     "output_type": "execute_result"
    }
   ],
   "source": [
    "df\n"
   ]
  },
  {
   "cell_type": "code",
   "execution_count": 36,
   "metadata": {},
   "outputs": [
    {
     "data": {
      "text/plain": [
       "0.14"
      ]
     },
     "execution_count": 36,
     "metadata": {},
     "output_type": "execute_result"
    }
   ],
   "source": [
    "0.20 * 2 /2\n",
    "0.07 *2/1"
   ]
  }
 ],
 "metadata": {
  "kernelspec": {
   "display_name": "Python 3",
   "language": "python",
   "name": "python3"
  },
  "language_info": {
   "codemirror_mode": {
    "name": "ipython",
    "version": 3
   },
   "file_extension": ".py",
   "mimetype": "text/x-python",
   "name": "python",
   "nbconvert_exporter": "python",
   "pygments_lexer": "ipython3",
   "version": "3.6.4"
  }
 },
 "nbformat": 4,
 "nbformat_minor": 2
}
